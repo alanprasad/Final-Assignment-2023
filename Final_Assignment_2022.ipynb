{
 "cells": [
  {
   "cell_type": "markdown",
   "metadata": {},
   "source": [
    "## Final Assignment"
   ]
  },
  {
   "cell_type": "markdown",
   "metadata": {},
   "source": [
    "\n",
    "Before working on this assignment please read the instructions fully. Use blackboard to submit a link to your repository. Upload a rendered document (html/pdf) as well as the original code. Please familiarize yourself with the criteria before beginning the assignment.\n",
    "\n",
    "You should define a research question yourself based on at least two data sources that can be merged into a tidy dataset. The research question should be life science related. The research question should be a question with a causual nature. For instance questions like: How do independent variables X influence the dependent variable of Y? The research question should be answered with an interactive visual, and if possible tested for significance.\n",
    "If you use code snippets from others you should refer to the original author, otherwise you will be accused of plagiarism. Please be prepared to explain your code in a verbal exam. \n",
    "\n"
   ]
  },
  {
   "cell_type": "markdown",
   "metadata": {},
   "source": [
    "Assessment criteria\n",
    "\n",
    "Conditional\n",
    "- No data and or api-key information is stored in the repository. \n",
    "- No hard datapaths are used, datapaths are provided in a configfile.\n",
    "- At least two data sets are merged into one tidy dataframe.\n",
    "\n",
    "Graded\n",
    "- (5 pt) The research question is stated. \n",
    "- (5 pt) Links to sources are provided and a small description about the data\n",
    "- (20 pt) Data qualitity and data quantity are inspected and reported. Appropiate transformations are applied.\n",
    "- (20 pt) Assumptions and presuppositions are made explicit (chosen data storage method, chosen analysis method, chosen design). An argumentative approach is used explaining steps, taken into account data quality and quantity. Explanation is provided either with comments in the code or in a seperate document.\n",
    "- (10 pt) Interactive visualization is extracted from correct analysis of (incomplete) data\n",
    "- (10 pt) The design supports the research question. The data is informative in relation to the topic. Visualization is functional and attractive Figures contain X and Y labels, title and captions. (10)\n",
    "- (20 pt) Code is efficient coded, according to coding style without code smells and easy to read. Code is demonstrated robust and flexible \n",
    "- (10 pt) All the code is stored in repository with Readme including most relevant information to implement the code. used software is suitably licensed and documented\n"
   ]
  },
  {
   "cell_type": "markdown",
   "metadata": {},
   "source": [
    "### About the data\n",
    "\n",
    "You can either choose \n",
    "- a dataset combination provided on blackboard\n",
    "- two datasets on the web from two different sources which can be used to answer a research question\n",
    "- the data from your project\n",
    "\n",
    "You are welcome to choose datasets at your discretion, but keep in mind they will be shared with others, so choose appropriate datasets. You are welcome to use datasets of your own as well, but minimual two datasets should be coming from the web and or API's. \n",
    "\n",
    "Also, you are welcome to preserve data in its original language, but for the purposes of grading you should provide english translations in your visualization. "
   ]
  },
  {
   "cell_type": "markdown",
   "metadata": {},
   "source": [
    "### Instructions:\n",
    "\n",
    "Define a research question, select data and code your data acquisition, data processing, data analysis and visualization. Use a repository with a commit strategy and write a readme file. Make sure that you document your choices. "
   ]
  },
  {
   "cell_type": "markdown",
   "metadata": {},
   "source": [
    "# The relationship between Psycho-social workload and smoking"
   ]
  },
  {
   "cell_type": "markdown",
   "metadata": {},
   "source": [
    "## Research question"
   ]
  },
  {
   "cell_type": "markdown",
   "metadata": {},
   "source": [
    "Are there any differences in the effects of psycho-social workload on smokers and non-smokers?\n",
    "Smoking has been linked to an increased risk of developing various physical and mental health conditions. But what about the effects of psycho-social workload on smokers and non-smokers? This research will explore the differences between the two groups in terms of their response to workload, and how this could affect their overall wellbeing.There are two main data sets were taken (1)lifestyle of the Dutch population in private households mainly Smoking rate per year and age group. (2)The psychosocial workload (PSA) of Dutch employees aged 15 to 75, by age and gender.\n"
   ]
  },
  {
   "cell_type": "markdown",
   "metadata": {},
   "source": [
    "### Loading needed libraries"
   ]
  },
  {
   "cell_type": "code",
   "execution_count": null,
   "metadata": {},
   "outputs": [],
   "source": [
    "import pandas as pd\n",
    "import yaml\n",
    "import numpy as np\n",
    "import matplotlib.pyplot as plt\n",
    "from bokeh.plotting import figure, show\n",
    "import bokeh_catplot\n",
    "import bokeh.io\n",
    "bokeh.io.output_notebook()\n",
    "import panel as pn\n",
    "import seaborn as sns\n",
    "from panel.interact import interact\n",
    "from bokeh.models import FactorRange, ColumnDataSource\n",
    "pn.extension()\n",
    "from bokeh.transform import dodge\n"
   ]
  },
  {
   "cell_type": "markdown",
   "metadata": {},
   "source": [
    "### 1. Data loading\n",
    "To run this analysis download the following files:[workload.csv](https://opendata.cbs.nl/statline/portal.html?_la=nl&_catalog=CBS&tableId=83049NED&_theme=175) and [Smoking.csv](https://opendata.cbs.nl/statline/portal.html?_la=nl&_catalog=CBS&tableId=85457NED&_theme=162)"
   ]
  },
  {
   "cell_type": "code",
   "execution_count": null,
   "metadata": {},
   "outputs": [],
   "source": [
    "with open(\"config.yaml\",\"r\") as stream:\n",
    "    config = yaml.safe_load(stream)\n",
    "\n",
    "file_smoking_file = config['smokingData']\n",
    "file_workload = config['workload']\n",
    "raw_df_workload = pd.read_csv(file_workload,sep=';')\n",
    "raw_df_smoking = pd.read_csv(file_smoking_file,sep=';')"
   ]
  },
  {
   "cell_type": "markdown",
   "metadata": {},
   "source": [
    "### 2. Data inspection\n",
    "The data is inspected for structure and format. Column and row number,datatypes and missing data for each dataframe.\n",
    "\n",
    "#### workload dataframe"
   ]
  },
  {
   "cell_type": "code",
   "execution_count": null,
   "metadata": {},
   "outputs": [],
   "source": [
    "raw_df_workload.head(10)"
   ]
  },
  {
   "cell_type": "markdown",
   "metadata": {},
   "source": [
    "#### Smoking dataframe"
   ]
  },
  {
   "cell_type": "code",
   "execution_count": null,
   "metadata": {},
   "outputs": [],
   "source": [
    "raw_df_smoking.head(10)"
   ]
  },
  {
   "cell_type": "code",
   "execution_count": null,
   "metadata": {},
   "outputs": [],
   "source": [
    "raw_df_smoking.info()\n",
    "raw_df_workload.info()"
   ]
  },
  {
   "cell_type": "markdown",
   "metadata": {},
   "source": [
    "##### observations:\n",
    "\n",
    "1. most of the values are given in percentage which is converted from the scores of Survey question.\n",
    "2. Several columns values need to be converted from special charater to readable values.\n",
    "3. several columns of smoking dataset needed to convert from object to float."
   ]
  },
  {
   "cell_type": "markdown",
   "metadata": {},
   "source": [
    "### 3. Data Wrangling\n",
    "#### 3a Data cleaning\n",
    "In this step missing data is removed and datatypes are converted to the correct types. special charater values also converted to readable values\n",
    "\n",
    "###### workload dataset"
   ]
  },
  {
   "cell_type": "code",
   "execution_count": null,
   "metadata": {},
   "outputs": [],
   "source": [
    "#displaying columns names\n",
    "raw_df_workload.columns"
   ]
  },
  {
   "cell_type": "code",
   "execution_count": null,
   "metadata": {},
   "outputs": [],
   "source": [
    "#changing the column names to appropriate names\n",
    "raw_df_workload.rename(columns={'Working Very Fast_1':'Fast Working','Doing A Lot Of Work_2':'Do lot of work','Periods':'Year',\n",
    "                                'Emotionally DifficultWork Situations_10':'Emotionally Difficult Work Situation','OfManagersOr Colleagues_14':'Victimization at work',\n",
    "                                'ExhaustedDue To Work_26':'ExhaustedByWork'},inplace = True)"
   ]
  },
  {
   "cell_type": "code",
   "execution_count": null,
   "metadata": {},
   "outputs": [],
   "source": [
    "#drop id column\n",
    "df_workload = raw_df_workload.drop('ID', axis=1)\n",
    "#dataframe consist of special keywords for each value that should be converted to specific values\n",
    "df_workload['Gender']=np.where(df_workload['Gender'] == 3000,'F','M')\n",
    "df_workload['Year'] = df_workload['Year'].str.replace('JJ00', '')\n",
    "df_workload['Age'] = df_workload['Age'].replace([53050, 53500,53700,53800,53900,53925],\n",
    "                                                ['15-25', '25-35', '35-45', '45-55', \n",
    "                                                 '55-65', '65-75'])\n",
    "#converting the datatype to appropriate dtype\n",
    "df_workload['Year']=df_workload['Year'].astype('int64')\n",
    "df_workload['Fast Working']=pd.to_numeric(df_workload['Fast Working'],errors='coerce')\n",
    "df_workload['Do lot of work']=pd.to_numeric(df_workload['Do lot of work'],errors='coerce')\n",
    "df_workload['Emotionally Difficult Work Situation']=pd.to_numeric(df_workload['Emotionally Difficult Work Situation'],errors='coerce')\n",
    "df_workload['Victimization at work']=pd.to_numeric(df_workload['Victimization at work'],errors='coerce')\n",
    "df_workload['ExhaustedByWork']=pd.to_numeric(df_workload['ExhaustedByWork'],errors='coerce')\n",
    "#removing null values\n",
    "df_workload.dropna(axis=0,inplace=True)"
   ]
  },
  {
   "cell_type": "code",
   "execution_count": null,
   "metadata": {},
   "outputs": [],
   "source": [
    "df_workload"
   ]
  },
  {
   "cell_type": "code",
   "execution_count": null,
   "metadata": {},
   "outputs": [],
   "source": [
    "df_workload.dtypes"
   ]
  },
  {
   "cell_type": "markdown",
   "metadata": {},
   "source": [
    "#### Smoking dataset"
   ]
  },
  {
   "cell_type": "code",
   "execution_count": null,
   "metadata": {},
   "outputs": [],
   "source": [
    "#displying column names\n",
    "raw_df_smoking.columns"
   ]
  },
  {
   "cell_type": "code",
   "execution_count": null,
   "metadata": {},
   "outputs": [],
   "source": [
    "#changing the column names to appropriate names\n",
    "raw_df_smoking.rename(columns={ 'Personal Attributes':'Age','Periods':'Year', 'Smokers_1':'Smoker',\n",
    "                                'ExSmokers_2':'Exsmoker', 'NeverSmokers_3':'Neversmoker'},inplace = True)\n",
    "#dataframe consist of special keywords for each value that should be converted to specific values\n",
    "raw_df_smoking['Year'] = raw_df_smoking['Year'].str.replace('JJ00', '')\n",
    "raw_df_smoking['Age'] = raw_df_smoking['Age'].replace([53080, 60300,60400,60500,71100,53900,53925],\n",
    "                                                        ['15-25', '25-35', '35-45', '45-55', '55-65',\n",
    "                                                         '65-75','75-85'])\n",
    "#drop unwanted columns\n",
    "smoking_df= raw_df_smoking.drop(['ID','Margins','DailySmokersAmongPopulation_4',\n",
    "                                 'DailySmokersAmongSmokers_5','SmokingYearsCurrentCigaretteSmokers_10',\n",
    "                                 'CigarettesPerDayPerSmoker_9'], axis=1)\n",
    "#converting datatype\n",
    "smoking_df['Year']=smoking_df['Year'].astype('int64')"
   ]
  },
  {
   "cell_type": "code",
   "execution_count": null,
   "metadata": {},
   "outputs": [],
   "source": [
    "smoking_df"
   ]
  },
  {
   "cell_type": "code",
   "execution_count": null,
   "metadata": {},
   "outputs": [],
   "source": [
    "smoking_df.dtypes"
   ]
  },
  {
   "cell_type": "code",
   "execution_count": null,
   "metadata": {},
   "outputs": [],
   "source": [
    "#beforing merging the two dataframe smoking dataset need to be groupby age and year\n",
    "#inorder to avoid data duplication while merging \n",
    "df_smoking = smoking_df.groupby(['Age','Year'])[['Smoker','Exsmoker','Neversmoker']].mean().reset_index()\n",
    "df_smoking.head()"
   ]
  },
  {
   "cell_type": "markdown",
   "metadata": {},
   "source": [
    "#### 3b Data Combining \n",
    " Here smoking and workload dataframes are merged on Age and Year columns"
   ]
  },
  {
   "cell_type": "code",
   "execution_count": null,
   "metadata": {},
   "outputs": [],
   "source": [
    "df_final = pd.merge(df_workload,df_smoking, on =[\"Age\",'Year'],how ='inner')\n",
    "df_final.describe()"
   ]
  },
  {
   "cell_type": "markdown",
   "metadata": {},
   "source": [
    "### 4. Data Exploration\n",
    "\n",
    "To determine further about the dataframe some of the informations have been displayed graphically"
   ]
  },
  {
   "cell_type": "code",
   "execution_count": null,
   "metadata": {},
   "outputs": [],
   "source": [
    "df_final.head(20).style.background_gradient(cmap = \"flare\")"
   ]
  },
  {
   "cell_type": "markdown",
   "metadata": {},
   "source": [
    "### Pie chart "
   ]
  },
  {
   "cell_type": "code",
   "execution_count": null,
   "metadata": {},
   "outputs": [],
   "source": [
    "def pie_chart():\n",
    "    Gender1 = (df_final['Gender']=='M').sum()\n",
    "    Gender0 = (df_final['Gender']=='F').sum()\n",
    "    print(f'There are total of {Gender1} Males and {Gender0} Females')\n",
    "    print(f\"There are total of {len(df_final.groupby('Age'))} Age Categories{df_final['Age'].unique()}\")\n",
    "    colors_age_group = ['red','orange','yellow','green','blue','indigo']\n",
    "    colors_gender = ['fuchsia','royalblue']\n",
    "    plt.figure(figsize=(13,13))\n",
    "    plt.subplot(121)\n",
    "    df_final['Age'].value_counts().plot.pie(explode=[0.1, 0.0, 0.1, 0.0, 0.1, 0.1],\n",
    "            autopct='%1.2f%%',fontsize=12,colors=colors_age_group,shadow = True, startangle = 70,\n",
    "            wedgeprops= {\"edgecolor\":\"black\",\n",
    "                         'linewidth': 1,\n",
    "                         'antialiased': True})\n",
    "    plt.subplot(122)\n",
    "    df_final['Gender'].value_counts().plot.pie(explode=[0,0.05],autopct='%1.f%%',\n",
    "                                               fontsize=15,colors=colors_gender,shadow = True, startangle = 90,\n",
    "            wedgeprops= {\"edgecolor\":\"black\",\n",
    "                         'linewidth': 1,\n",
    "                         'antialiased': True})\n",
    "\n",
    "piechart = pn.interact(pie_chart)\n",
    "pn.extension()\n",
    "pn.Row(piechart)"
   ]
  },
  {
   "cell_type": "markdown",
   "metadata": {},
   "source": [
    "#### obsevation:\n",
    "1. There are total of six age group and 65-75 is the only smallest group compare with others.\n",
    "2. Almost equal number of Men and women in the Dataset. so there will be no significant difference in gender values"
   ]
  },
  {
   "cell_type": "markdown",
   "metadata": {},
   "source": [
    "### 1.Bar graph"
   ]
  },
  {
   "cell_type": "code",
   "execution_count": null,
   "metadata": {
    "scrolled": true
   },
   "outputs": [],
   "source": [
    "def barplot(Age,Year):\n",
    "    df = df_final\n",
    "\n",
    "    \n",
    "    df= df[df['Age']== Age]\n",
    "    df = df[df['Year']== Year]\n",
    "    workload_mean=[]\n",
    "    workload = list(df_final.columns[3:8])\n",
    "    \n",
    "    for x in workload:\n",
    "        workload_mean.append(df[x].mean())\n",
    "    color_code = ['red','orange','violet','green','blue']  \n",
    "    p = figure(title='workload per Age Group and Year',  \n",
    "    x_range=FactorRange(factors=workload), width= 500, height= 500)\n",
    "    p.xaxis.axis_label='Workload'\n",
    "    p.yaxis.axis_label='percentage(%)'\n",
    "    p.xaxis.major_label_orientation = 1\n",
    "    p.vbar(x=workload,  top=workload_mean, width=0.5, color= color_code, fill_alpha=0.7,line_color='white')\n",
    "    return(p)"
   ]
  },
  {
   "cell_type": "code",
   "execution_count": null,
   "metadata": {
    "scrolled": false
   },
   "outputs": [],
   "source": [
    "Ages= list(df_final.Age.unique())\n",
    "value = pn.widgets.IntSlider(name ='Year',start = 2014,end = 2021,step=1)\n",
    "barplot = pn.interact(barplot,Age = Ages,Year=value)\n",
    "pn.Row(barplot)"
   ]
  },
  {
   "cell_type": "markdown",
   "metadata": {},
   "source": [
    "#### observations:\n",
    "1. Age group 25-35 and 35-45 having the highest workrate over the years. This means when people become older their working rate decreasing.\n",
    "2. About the work pressure age group 25-35 have affected more. People who are experienced in the job did not face any difficulty.\n",
    "3. Overall the percentage of bar is increasing and decreasing so we cannot see a specific trend."
   ]
  },
  {
   "cell_type": "markdown",
   "metadata": {},
   "source": [
    "### 2.Bar graph"
   ]
  },
  {
   "cell_type": "code",
   "execution_count": null,
   "metadata": {},
   "outputs": [],
   "source": [
    "def barplot_smoking(year):\n",
    "    \n",
    "    df = df_final[df_final['Year'] == year]\n",
    "    \n",
    "    source = ColumnDataSource(df)\n",
    "\n",
    "    p = figure(x_range=df_final['Age'].unique(), y_range=(0, 100), title=\"Smoking habit by Age group and Year\",\n",
    "           width= 500, height= 500, toolbar_location=None, tools=\"\")\n",
    "\n",
    "    p.vbar(x=dodge('Age', -0.27, range=p.x_range), top='Smoker', source=source,\n",
    "       width=0.2, color=\"#340701\", legend_label=\"Smoker\")\n",
    "\n",
    "    p.vbar(x=dodge('Age',  0.0,  range=p.x_range), top='Exsmoker', source=source,\n",
    "       width=0.2, color=\"#9c1a04\", legend_label=\"Exsmoker\")\n",
    "\n",
    "    p.vbar(x=dodge('Age',  0.27, range=p.x_range), top='Neversmoker', source=source,\n",
    "       width=0.2, color=\"#db8758\", legend_label=\"Neversmoker\")\n",
    "\n",
    "    p.x_range.range_padding = 0.1\n",
    "    p.xgrid.grid_line_color = None\n",
    "    p.legend.location = \"top_right\"\n",
    "    p.xaxis.axis_label=\"Age Group\"\n",
    "    p.yaxis.axis_label =\"Percentage (%)\"\n",
    "    p.legend.orientation = \"horizontal\"\n",
    "    p.legend.click_policy = \"hide\"\n",
    "    return(p)"
   ]
  },
  {
   "cell_type": "code",
   "execution_count": null,
   "metadata": {},
   "outputs": [],
   "source": [
    "list_of_year =  list(df_final['Year'].unique()) \n",
    "years = pn.widgets.RadioButtonGroup(\n",
    "        name='Year',\n",
    "        options=list_of_year,\n",
    "        button_type='success')\n",
    "\n",
    "barplot_smoking = pn.interact(barplot_smoking, year = years)\n",
    "pn.extension()\n",
    "pn.Row(barplot_smoking)"
   ]
  },
  {
   "cell_type": "markdown",
   "metadata": {},
   "source": [
    "#### observations:\n",
    "1. From the bar graph it's very clear that 25-35 age group has the highest smoking rate over the year 2014-2021.\n",
    "2. Percentage of ex-smokers is increasing by age group\n",
    "3. Also the percentage of neversmokers is decreasing by age group"
   ]
  },
  {
   "cell_type": "markdown",
   "metadata": {},
   "source": [
    "### scatter plot"
   ]
  },
  {
   "cell_type": "code",
   "execution_count": null,
   "metadata": {},
   "outputs": [],
   "source": [
    "def scatter_plot(workload,smoking):\n",
    "    \n",
    "    df = df_final\n",
    "\n",
    "    \n",
    "\n",
    "    source = ColumnDataSource(df)\n",
    "    \n",
    "    # Setting plot parameters\n",
    "    p = figure(width=800, height=600, title=\"Scatterplot for Working condition and smoking status\")\n",
    "    p.xaxis.axis_label = \"Smoking status\"\n",
    "    p.yaxis.axis_label = \"Working status\"\n",
    "    \n",
    "    # Scatter plot\n",
    "    p.circle(smoking,workload, \n",
    "                 size=9, color=\"red\", alpha=0.8, \n",
    "                 legend_label = 'workload v/s smoking', source=source)\n",
    "    \n",
    "    # Customizing legend\n",
    "    p.legend.location = \"top_left\"\n",
    "    p.legend.orientation = \"horizontal\"\n",
    "    p.legend.background_fill_color = \"grey\"\n",
    "    p.legend.background_fill_alpha = 0.15\n",
    "    p.legend.label_text_font_size = \"10.5pt\"\n",
    "    p.legend.label_text_font_style = \"italic\"\n",
    "    \n",
    "    return p\n"
   ]
  },
  {
   "cell_type": "code",
   "execution_count": null,
   "metadata": {},
   "outputs": [],
   "source": [
    "work_list =  list(df_final.columns[3:8]) \n",
    "smoke_list =  list(df_final.columns[8:11]) \n",
    "\n",
    "workloads = pn.widgets.RadioButtonGroup(name='workload',options=work_list,button_type='success')\n",
    "smokers = pn.widgets.RadioButtonGroup(name='Smoker',options=smoke_list,button_type='success')"
   ]
  },
  {
   "cell_type": "code",
   "execution_count": null,
   "metadata": {},
   "outputs": [],
   "source": [
    "scatter_plot = pn.interact(scatter_plot, workload = workloads, smoking=smokers)\n",
    "pn.Row(scatter_plot)"
   ]
  },
  {
   "cell_type": "markdown",
   "metadata": {},
   "source": [
    "#### observations:\n",
    "In general, it seems to be a postive correlation between workload and smoking rate. As the workload increases,smoking rate also do so. This relationship seems to be higher in young age group over the years. There is a possibility to compare all the smoking status of the person inorder to check they also have any relation between work pressure."
   ]
  },
  {
   "cell_type": "markdown",
   "metadata": {},
   "source": [
    "### correlation Matrix heatmap"
   ]
  },
  {
   "cell_type": "code",
   "execution_count": null,
   "metadata": {},
   "outputs": [],
   "source": [
    "def heat_map():\n",
    "    fig, ax = plt.subplots()\n",
    "    plt.title('Correlationship')\n",
    "    fig.set_size_inches((10,10))\n",
    "    sns.heatmap(df_final.corr(),square = True, annot = True)\n",
    "heatmap = heat_map()"
   ]
  },
  {
   "cell_type": "markdown",
   "metadata": {},
   "source": [
    "#### observations:\n",
    "1. What is meant by positive correlation?\n",
    "A positive correlation is a relationship between two variables that move in tandem—that is, in the same direction.\n",
    "2. What is meant by negative correlation? \n",
    "Negative correlation is a relationship between two variables in which one variable increases as the other decreases, and vice versa.\n",
    "3. Here smoking and workload shows positive correlation from the heatmap whereas Year and smoking shows negative correlation\n"
   ]
  },
  {
   "cell_type": "code",
   "execution_count": null,
   "metadata": {},
   "outputs": [],
   "source": [
    "import panel as pn\n",
    "import numpy as np\n",
    "import holoviews as hv\n",
    "\n",
    "pn.extension()\n",
    "\n",
    "template = pn.template.FastListTemplate(\n",
    "    theme = 'default',\n",
    "    accent_base_color=\"#5F4B8BFF\",\n",
    "    header_background=\"#97BC62FF\",\n",
    "    title = 'The relationship between Psycho-social workload and smoking',\n",
    "    sidebar =[pn.pane.Markdown(\"## Are there any differences in the effects of psycho-social workload on smokers and non-smokers?\"),\n",
    "              pn.pane.Markdown(\"Smoking is a major public health concern that has been linked to an increased risk of various diseases, including cancer and cardiovascular diseases. But what are the underlying factors that make people more likely to smoke? Recent studies suggest that psycho-social workload can be one of the key contributors to smoking among people. \"),\n",
    "              pn.pane.Markdown(\"Data sources: [Lifestyle & personal characteristics](https://opendata.cbs.nl/statline/portal.html?_la=nl&_catalog=CBS&tableId=85457NED&_theme=162) [psychosocial workload (PSA)](https://opendata.cbs.nl/statline/portal.html?_la=nl&_catalog=CBS&tableId=85457NED&_theme=162)\")],\n",
    "    main = [pn.Column(pn.Row(barplot_smoking)),\n",
    "            pn.Column(pn.Row(barplot)),\n",
    "            pn.Column(pn.Row(scatter_plot)),\n",
    "           ])\n",
    "template.show()"
   ]
  },
  {
   "cell_type": "markdown",
   "metadata": {},
   "source": [
    "### References\n",
    "#### Data sources:\n",
    "1. The [Lifestyle and personal characteristics](https://opendata.cbs.nl/statline/portal.html?_la=nl&_catalog=CBS&tableId=85457NED&_theme=162)was retrieved from CBS open data statline(2014-2021).\n",
    "2. The [psychosocial workload (PSA)](https://opendata.cbs.nl/statline/portal.html?_la=nl&_catalog=CBS&tableId=83049NED&_theme=175) of Dutch employees was retrieved from CBS open data statline(2014-2021).\n",
    "\n",
    "[CBS open data statline](https://opendata.cbs.nl/statline/portal.html?_la=nl&_catalog=CBS)"
   ]
  }
 ],
 "metadata": {
  "kernelspec": {
   "display_name": "Python 3 (ipykernel)",
   "language": "python",
   "name": "python3"
  },
  "language_info": {
   "codemirror_mode": {
    "name": "ipython",
    "version": 3
   },
   "file_extension": ".py",
   "mimetype": "text/x-python",
   "name": "python",
   "nbconvert_exporter": "python",
   "pygments_lexer": "ipython3",
   "version": "3.9.13"
  },
  "vscode": {
   "interpreter": {
    "hash": "aee8b7b246df8f9039afb4144a1f6fd8d2ca17a180786b69acc140d282b71a49"
   }
  }
 },
 "nbformat": 4,
 "nbformat_minor": 2
}
